{
 "cells": [
  {
   "cell_type": "code",
   "execution_count": 2,
   "id": "8a461158-03bf-4f7b-bf7a-902f1a1b9d45",
   "metadata": {},
   "outputs": [],
   "source": [
    "# https://www.kaggle.com/datasets/whenamancodes/fraud-detection\n",
    "import pandas as pd\n",
    "import numpy as np\n",
    "import matplotlib.pyplot as plt\n",
    "import seaborn as sns\n",
    "\n",
    "from sklearn.model_selection import train_test_split"
   ]
  },
  {
   "cell_type": "code",
   "execution_count": 83,
   "id": "9599538e-82a4-4d63-b970-99e1d47a0a4d",
   "metadata": {},
   "outputs": [],
   "source": [
    "#loading and inspecting the dataset \n",
    "df = pd.read_csv(\"creditcard.csv\")"
   ]
  },
  {
   "cell_type": "code",
   "execution_count": 85,
   "id": "10125e02-e2a5-4b72-be32-dcc56861b7b0",
   "metadata": {},
   "outputs": [
    {
     "name": "stdout",
     "output_type": "stream",
     "text": [
      "<class 'pandas.core.frame.DataFrame'>\n",
      "RangeIndex: 284807 entries, 0 to 284806\n",
      "Data columns (total 31 columns):\n",
      " #   Column  Non-Null Count   Dtype  \n",
      "---  ------  --------------   -----  \n",
      " 0   Time    284807 non-null  float64\n",
      " 1   V1      284807 non-null  float64\n",
      " 2   V2      284807 non-null  float64\n",
      " 3   V3      284807 non-null  float64\n",
      " 4   V4      284807 non-null  float64\n",
      " 5   V5      284807 non-null  float64\n",
      " 6   V6      284807 non-null  float64\n",
      " 7   V7      284807 non-null  float64\n",
      " 8   V8      284807 non-null  float64\n",
      " 9   V9      284807 non-null  float64\n",
      " 10  V10     284807 non-null  float64\n",
      " 11  V11     284807 non-null  float64\n",
      " 12  V12     284807 non-null  float64\n",
      " 13  V13     284807 non-null  float64\n",
      " 14  V14     284807 non-null  float64\n",
      " 15  V15     284807 non-null  float64\n",
      " 16  V16     284807 non-null  float64\n",
      " 17  V17     284807 non-null  float64\n",
      " 18  V18     284807 non-null  float64\n",
      " 19  V19     284807 non-null  float64\n",
      " 20  V20     284807 non-null  float64\n",
      " 21  V21     284807 non-null  float64\n",
      " 22  V22     284807 non-null  float64\n",
      " 23  V23     284807 non-null  float64\n",
      " 24  V24     284807 non-null  float64\n",
      " 25  V25     284807 non-null  float64\n",
      " 26  V26     284807 non-null  float64\n",
      " 27  V27     284807 non-null  float64\n",
      " 28  V28     284807 non-null  float64\n",
      " 29  Amount  284807 non-null  float64\n",
      " 30  Class   284807 non-null  int64  \n",
      "dtypes: float64(30), int64(1)\n",
      "memory usage: 67.4 MB\n"
     ]
    }
   ],
   "source": [
    "df.info()"
   ]
  },
  {
   "cell_type": "code",
   "execution_count": 97,
   "id": "fbd52a94-8456-4feb-abd3-dd58a1f178a9",
   "metadata": {},
   "outputs": [
    {
     "data": {
      "text/html": [
       "<div>\n",
       "<style scoped>\n",
       "    .dataframe tbody tr th:only-of-type {\n",
       "        vertical-align: middle;\n",
       "    }\n",
       "\n",
       "    .dataframe tbody tr th {\n",
       "        vertical-align: top;\n",
       "    }\n",
       "\n",
       "    .dataframe thead th {\n",
       "        text-align: right;\n",
       "    }\n",
       "</style>\n",
       "<table border=\"1\" class=\"dataframe\">\n",
       "  <thead>\n",
       "    <tr style=\"text-align: right;\">\n",
       "      <th></th>\n",
       "      <th>Time</th>\n",
       "      <th>V1</th>\n",
       "      <th>V2</th>\n",
       "      <th>V3</th>\n",
       "      <th>V4</th>\n",
       "      <th>V5</th>\n",
       "      <th>V6</th>\n",
       "      <th>V7</th>\n",
       "      <th>V8</th>\n",
       "      <th>V9</th>\n",
       "      <th>...</th>\n",
       "      <th>V21</th>\n",
       "      <th>V22</th>\n",
       "      <th>V23</th>\n",
       "      <th>V24</th>\n",
       "      <th>V25</th>\n",
       "      <th>V26</th>\n",
       "      <th>V27</th>\n",
       "      <th>V28</th>\n",
       "      <th>Amount</th>\n",
       "      <th>Class</th>\n",
       "    </tr>\n",
       "  </thead>\n",
       "  <tbody>\n",
       "    <tr>\n",
       "      <th>0</th>\n",
       "      <td>0.0</td>\n",
       "      <td>-1.359807</td>\n",
       "      <td>-0.072781</td>\n",
       "      <td>2.536347</td>\n",
       "      <td>1.378155</td>\n",
       "      <td>-0.338321</td>\n",
       "      <td>0.462388</td>\n",
       "      <td>0.239599</td>\n",
       "      <td>0.098698</td>\n",
       "      <td>0.363787</td>\n",
       "      <td>...</td>\n",
       "      <td>-0.018307</td>\n",
       "      <td>0.277838</td>\n",
       "      <td>-0.110474</td>\n",
       "      <td>0.066928</td>\n",
       "      <td>0.128539</td>\n",
       "      <td>-0.189115</td>\n",
       "      <td>0.133558</td>\n",
       "      <td>-0.021053</td>\n",
       "      <td>149.62</td>\n",
       "      <td>0</td>\n",
       "    </tr>\n",
       "    <tr>\n",
       "      <th>1</th>\n",
       "      <td>0.0</td>\n",
       "      <td>1.191857</td>\n",
       "      <td>0.266151</td>\n",
       "      <td>0.166480</td>\n",
       "      <td>0.448154</td>\n",
       "      <td>0.060018</td>\n",
       "      <td>-0.082361</td>\n",
       "      <td>-0.078803</td>\n",
       "      <td>0.085102</td>\n",
       "      <td>-0.255425</td>\n",
       "      <td>...</td>\n",
       "      <td>-0.225775</td>\n",
       "      <td>-0.638672</td>\n",
       "      <td>0.101288</td>\n",
       "      <td>-0.339846</td>\n",
       "      <td>0.167170</td>\n",
       "      <td>0.125895</td>\n",
       "      <td>-0.008983</td>\n",
       "      <td>0.014724</td>\n",
       "      <td>2.69</td>\n",
       "      <td>0</td>\n",
       "    </tr>\n",
       "  </tbody>\n",
       "</table>\n",
       "<p>2 rows × 31 columns</p>\n",
       "</div>"
      ],
      "text/plain": [
       "   Time        V1        V2        V3        V4        V5        V6        V7  \\\n",
       "0   0.0 -1.359807 -0.072781  2.536347  1.378155 -0.338321  0.462388  0.239599   \n",
       "1   0.0  1.191857  0.266151  0.166480  0.448154  0.060018 -0.082361 -0.078803   \n",
       "\n",
       "         V8        V9  ...       V21       V22       V23       V24       V25  \\\n",
       "0  0.098698  0.363787  ... -0.018307  0.277838 -0.110474  0.066928  0.128539   \n",
       "1  0.085102 -0.255425  ... -0.225775 -0.638672  0.101288 -0.339846  0.167170   \n",
       "\n",
       "        V26       V27       V28  Amount  Class  \n",
       "0 -0.189115  0.133558 -0.021053  149.62      0  \n",
       "1  0.125895 -0.008983  0.014724    2.69      0  \n",
       "\n",
       "[2 rows x 31 columns]"
      ]
     },
     "execution_count": 97,
     "metadata": {},
     "output_type": "execute_result"
    }
   ],
   "source": [
    "df.head(2)\n",
    "# no encoding or standartization needed, values have been pre-processed already"
   ]
  },
  {
   "cell_type": "code",
   "execution_count": 91,
   "id": "ab43311c-2326-4f46-a399-6c8f716586ef",
   "metadata": {},
   "outputs": [
    {
     "data": {
      "text/plain": [
       "Time      0\n",
       "V1        0\n",
       "V2        0\n",
       "V3        0\n",
       "V4        0\n",
       "V5        0\n",
       "V6        0\n",
       "V7        0\n",
       "V8        0\n",
       "V9        0\n",
       "V10       0\n",
       "V11       0\n",
       "V12       0\n",
       "V13       0\n",
       "V14       0\n",
       "V15       0\n",
       "V16       0\n",
       "V17       0\n",
       "V18       0\n",
       "V19       0\n",
       "V20       0\n",
       "V21       0\n",
       "V22       0\n",
       "V23       0\n",
       "V24       0\n",
       "V25       0\n",
       "V26       0\n",
       "V27       0\n",
       "V28       0\n",
       "Amount    0\n",
       "Class     0\n",
       "dtype: int64"
      ]
     },
     "execution_count": 91,
     "metadata": {},
     "output_type": "execute_result"
    }
   ],
   "source": [
    "df.isna().sum()"
   ]
  },
  {
   "cell_type": "code",
   "execution_count": 89,
   "id": "5cfb0783-9e92-4178-b07a-588d9a22fb13",
   "metadata": {},
   "outputs": [
    {
     "data": {
      "text/plain": [
       "Class\n",
       "0    0.998273\n",
       "1    0.001727\n",
       "Name: proportion, dtype: float64"
      ]
     },
     "execution_count": 89,
     "metadata": {},
     "output_type": "execute_result"
    }
   ],
   "source": [
    "# the dataset is highly imbalaned, later on I'll try to balance the weights \n",
    "df[\"Class\"].value_counts(normalize = True)"
   ]
  },
  {
   "cell_type": "code",
   "execution_count": 147,
   "id": "78afbbb2-8644-40c8-93e1-0b5349e2e0c6",
   "metadata": {},
   "outputs": [
    {
     "data": {
      "text/html": [
       "<div>\n",
       "<style scoped>\n",
       "    .dataframe tbody tr th:only-of-type {\n",
       "        vertical-align: middle;\n",
       "    }\n",
       "\n",
       "    .dataframe tbody tr th {\n",
       "        vertical-align: top;\n",
       "    }\n",
       "\n",
       "    .dataframe thead th {\n",
       "        text-align: right;\n",
       "    }\n",
       "</style>\n",
       "<table border=\"1\" class=\"dataframe\">\n",
       "  <thead>\n",
       "    <tr style=\"text-align: right;\">\n",
       "      <th></th>\n",
       "      <th>V14</th>\n",
       "      <th>V10</th>\n",
       "      <th>V2</th>\n",
       "      <th>V8</th>\n",
       "    </tr>\n",
       "  </thead>\n",
       "  <tbody>\n",
       "    <tr>\n",
       "      <th>0</th>\n",
       "      <td>-0.311169</td>\n",
       "      <td>0.090794</td>\n",
       "      <td>-0.072781</td>\n",
       "      <td>0.098698</td>\n",
       "    </tr>\n",
       "    <tr>\n",
       "      <th>1</th>\n",
       "      <td>-0.143772</td>\n",
       "      <td>-0.166974</td>\n",
       "      <td>0.266151</td>\n",
       "      <td>0.085102</td>\n",
       "    </tr>\n",
       "  </tbody>\n",
       "</table>\n",
       "</div>"
      ],
      "text/plain": [
       "        V14       V10        V2        V8\n",
       "0 -0.311169  0.090794 -0.072781  0.098698\n",
       "1 -0.143772 -0.166974  0.266151  0.085102"
      ]
     },
     "execution_count": 147,
     "metadata": {},
     "output_type": "execute_result"
    }
   ],
   "source": [
    "# removing the features with weights < 0.009 (see step with feature importances further)\n",
    "x = df.drop([\"Class\"], axis = 1)\n",
    "x = df[[\"V14\", \"V10\", \"V2\", \"V8\"]]\n",
    "y = df[\"Class\"]\n",
    "x.head(2)"
   ]
  },
  {
   "cell_type": "code",
   "execution_count": 153,
   "id": "7f127c7c-5d17-485c-9321-1082ec100a46",
   "metadata": {},
   "outputs": [
    {
     "data": {
      "text/plain": [
       "573.2069892473119"
      ]
     },
     "execution_count": 153,
     "metadata": {},
     "output_type": "execute_result"
    }
   ],
   "source": [
    "# splitting the dataset and defining the scale_pos_weight to balance class weights\n",
    "x_train, x_test, y_train, y_test = train_test_split(x, y, test_size = 0.25, random_state = 0)\n",
    "\n",
    "fraud_cases = np.sum(y_train == 1)\n",
    "normal_cases = np.sum(y_train == 0)\n",
    "\n",
    "scale_pos_weight = normal_cases / fraud_cases\n",
    "scale_pos_weight"
   ]
  },
  {
   "cell_type": "code",
   "execution_count": 159,
   "id": "cbb7b018-778d-4a44-bfde-3a37dd859176",
   "metadata": {},
   "outputs": [],
   "source": [
    "# fitting and predicting XGBoost model \n",
    "from xgboost import XGBClassifier\n",
    "from sklearn.metrics import confusion_matrix, classification_report\n",
    "\n",
    "model_1 = XGBClassifier(objective='binary:logistic', random_state=42, scale_pos_weight=573)\n",
    "model_1.fit(x_train, y_train)\n",
    "predictions_xgb = model_1.predict(x_test)\n"
   ]
  },
  {
   "cell_type": "code",
   "execution_count": 161,
   "id": "6bc3bab1-c3f0-4c74-a435-49e7e6b09fb7",
   "metadata": {},
   "outputs": [
    {
     "name": "stdout",
     "output_type": "stream",
     "text": [
      "Accuracy of the eXtreme Gradient Boosting model is: 99.93679952810315\n"
     ]
    }
   ],
   "source": [
    "accuracy= accuracy_score(y_test,predictions)\n",
    "print('Accuracy of the eXtreme Gradient Boosting model is:', accuracy*100)"
   ]
  },
  {
   "cell_type": "code",
   "execution_count": 135,
   "id": "d8367822-9bc5-4635-b861-157795ee988e",
   "metadata": {},
   "outputs": [
    {
     "name": "stdout",
     "output_type": "stream",
     "text": [
      "   Feature  Importance\n",
      "14     V14    0.636757\n",
      "10     V10    0.287925\n",
      "2       V2    0.023042\n",
      "8       V8    0.009865\n",
      "17     V17    0.003233\n",
      "7       V7    0.002700\n",
      "12     V12    0.002463\n",
      "4       V4    0.002446\n",
      "16     V16    0.002429\n",
      "28     V28    0.001991\n",
      "11     V11    0.001954\n",
      "6       V6    0.001880\n",
      "27     V27    0.001725\n",
      "1       V1    0.001677\n",
      "29  Amount    0.001566\n",
      "19     V19    0.001565\n",
      "5       V5    0.001551\n",
      "21     V21    0.001542\n",
      "23     V23    0.001517\n",
      "25     V25    0.001437\n",
      "9       V9    0.001368\n",
      "3       V3    0.001366\n",
      "13     V13    0.001255\n",
      "20     V20    0.001241\n",
      "18     V18    0.001238\n",
      "26     V26    0.001232\n",
      "0     Time    0.000909\n",
      "24     V24    0.000746\n",
      "22     V22    0.000696\n",
      "15     V15    0.000686\n"
     ]
    }
   ],
   "source": [
    "feature_importance = pd.DataFrame({'Feature': x_train.columns, 'Importance': model_1.feature_importances_})\n",
    "print(feature_importance.sort_values(by='Importance', ascending=False))\n"
   ]
  },
  {
   "cell_type": "code",
   "execution_count": 165,
   "id": "adc2430b-5095-40d1-852d-9e6d81155d53",
   "metadata": {},
   "outputs": [
    {
     "name": "stdout",
     "output_type": "stream",
     "text": [
      "Epoch 1/5\n",
      "\u001b[1m6676/6676\u001b[0m \u001b[32m━━━━━━━━━━━━━━━━━━━━\u001b[0m\u001b[37m\u001b[0m \u001b[1m30s\u001b[0m 4ms/step - accuracy: 0.9979 - loss: 0.0150 - val_accuracy: 0.9994 - val_loss: 0.0047\n",
      "Epoch 2/5\n",
      "\u001b[1m6676/6676\u001b[0m \u001b[32m━━━━━━━━━━━━━━━━━━━━\u001b[0m\u001b[37m\u001b[0m \u001b[1m27s\u001b[0m 4ms/step - accuracy: 0.9990 - loss: 0.0057 - val_accuracy: 0.9958 - val_loss: 0.0149\n",
      "Epoch 3/5\n",
      "\u001b[1m6676/6676\u001b[0m \u001b[32m━━━━━━━━━━━━━━━━━━━━\u001b[0m\u001b[37m\u001b[0m \u001b[1m41s\u001b[0m 4ms/step - accuracy: 0.9986 - loss: 0.0053 - val_accuracy: 0.9993 - val_loss: 0.0060\n",
      "Epoch 4/5\n",
      "\u001b[1m6676/6676\u001b[0m \u001b[32m━━━━━━━━━━━━━━━━━━━━\u001b[0m\u001b[37m\u001b[0m \u001b[1m31s\u001b[0m 5ms/step - accuracy: 0.9989 - loss: 0.0063 - val_accuracy: 0.9989 - val_loss: 0.0049\n",
      "Epoch 5/5\n",
      "\u001b[1m6676/6676\u001b[0m \u001b[32m━━━━━━━━━━━━━━━━━━━━\u001b[0m\u001b[37m\u001b[0m \u001b[1m27s\u001b[0m 4ms/step - accuracy: 0.9992 - loss: 0.0047 - val_accuracy: 0.9994 - val_loss: 0.0036\n",
      "\u001b[1m2226/2226\u001b[0m \u001b[32m━━━━━━━━━━━━━━━━━━━━\u001b[0m\u001b[37m\u001b[0m \u001b[1m3s\u001b[0m 1ms/step\n",
      "\u001b[1m2226/2226\u001b[0m \u001b[32m━━━━━━━━━━━━━━━━━━━━\u001b[0m\u001b[37m\u001b[0m \u001b[1m7s\u001b[0m 3ms/step - accuracy: 0.9994 - loss: 0.0036\n",
      "Test Accuracy: 1.00\n"
     ]
    }
   ],
   "source": [
    "# the results seem to be very good for the XGBoost model, let's compare it with the deep learning model\n",
    "import tensorflow as tf\n",
    "from tensorflow import keras\n",
    "from tensorflow.keras.models import Sequential\n",
    "from tensorflow.keras.layers import InputLayer, Dense, Dropout\n",
    "from tensorflow.keras.optimizers import Adam\n",
    "\n",
    "model = Sequential()\n",
    "input = InputLayer(shape = (x_train.shape[1],))\n",
    "model.add(input)\n",
    "\n",
    "model_2 = Sequential([\n",
    "    InputLayer(shape = (x_train.shape[1],)),\n",
    "    Dense(32, activation='relu'),\n",
    "    Dropout(0.1),\n",
    "    Dense(16, activation='relu'),\n",
    "    Dense(1, activation='sigmoid') \n",
    "])\n",
    "opt = Adam(learning_rate = 0.01)\n",
    "model_2.compile(optimizer=opt, loss='binary_crossentropy', metrics=['accuracy'])\n",
    "history = model_2.fit(x_train, y_train, epochs=5, batch_size=32, validation_data=(x_test, y_test))\n",
    "predictions_dl = model_2.predict(x_test)\n",
    "\n",
    "test_loss, test_accuracy = model_2.evaluate(x_test, y_test)\n",
    "print(f'Test Accuracy: {test_accuracy:.2f}')\n"
   ]
  },
  {
   "cell_type": "code",
   "execution_count": 167,
   "id": "963cc7d2-5014-43fb-acde-d2aba6a291c9",
   "metadata": {},
   "outputs": [
    {
     "name": "stdout",
     "output_type": "stream",
     "text": [
      "\u001b[1m2226/2226\u001b[0m \u001b[32m━━━━━━━━━━━━━━━━━━━━\u001b[0m\u001b[37m\u001b[0m \u001b[1m3s\u001b[0m 2ms/step\n",
      "XGBoost Accuracy: 1.00\n",
      "Keras Accuracy: 1.00\n",
      "XGBoost Precision: 0.82\n",
      "Keras Precision: 0.75\n",
      "XGBoost Recall: 0.80\n",
      "Keras Recall: 0.78\n",
      "XGBoost F1-score: 0.81\n",
      "Keras F1-score: 0.76\n",
      "XGBoost AUC-ROC: 0.90\n",
      "Keras AUC-ROC: 0.89\n"
     ]
    }
   ],
   "source": [
    "#let's compare metrics for both models \n",
    "from sklearn.metrics import accuracy_score, precision_score, recall_score, f1_score, roc_auc_score\n",
    "predictions_keras = model_2.predict(x_test)\n",
    "predictions_keras = (predictions_keras > 0.5).astype(int)\n",
    "\n",
    "predictions_xgb = model_1.predict(x_test)\n",
    "predictions_xgb = (predictions_xgb > 0.5).astype(int)\n",
    "print(f\"XGBoost Accuracy: {accuracy_score(y_test, predictions_keras):.2f}\")\n",
    "print(f\"Keras Accuracy: {accuracy_score(y_test, predictions_xgb):.2f}\")\n",
    "\n",
    "print(f\"XGBoost Precision: {precision_score(y_test, predictions_keras):.2f}\")\n",
    "print(f\"Keras Precision: {precision_score(y_test, predictions_xgb):.2f}\")\n",
    "\n",
    "print(f\"XGBoost Recall: {recall_score(y_test, predictions_keras):.2f}\")\n",
    "print(f\"Keras Recall: {recall_score(y_test, predictions_xgb):.2f}\")\n",
    "\n",
    "print(f\"XGBoost F1-score: {f1_score(y_test, predictions_keras):.2f}\")\n",
    "print(f\"Keras F1-score: {f1_score(y_test, predictions_xgb):.2f}\")\n",
    "\n",
    "print(f\"XGBoost AUC-ROC: {roc_auc_score(y_test, predictions_keras):.2f}\")\n",
    "print(f\"Keras AUC-ROC: {roc_auc_score(y_test, predictions_xgb):.2f}\")\n"
   ]
  },
  {
   "cell_type": "code",
   "execution_count": 171,
   "id": "c274ddb9-3885-4c15-9044-4f619c94b6ab",
   "metadata": {},
   "outputs": [
    {
     "name": "stdout",
     "output_type": "stream",
     "text": [
      "\u001b[1m2226/2226\u001b[0m \u001b[32m━━━━━━━━━━━━━━━━━━━━\u001b[0m\u001b[37m\u001b[0m \u001b[1m5s\u001b[0m 2ms/step\n"
     ]
    },
    {
     "data": {
      "image/png": "[encoded data removed]",
      "text/plain": [
       "<Figure size 800x600 with 1 Axes>"
      ]
     },
     "metadata": {},
     "output_type": "display_data"
    }
   ],
   "source": [
    "# plotting the ROC/AUC \n",
    "import matplotlib.pyplot as plt\n",
    "from sklearn.metrics import roc_curve, auc\n",
    "\n",
    "fpr_xgb, tpr_xgb, _ = roc_curve(y_test, model_1.predict_proba(x_test)[:, 1])\n",
    "roc_auc_xgb = auc(fpr_xgb, tpr_xgb)\n",
    "\n",
    "fpr_keras, tpr_keras, _ = roc_curve(y_test, model_2.predict(x_test).ravel())\n",
    "roc_auc_keras = auc(fpr_keras, tpr_keras)\n",
    "\n",
    "plt.figure(figsize=(8, 6))\n",
    "plt.plot(fpr_xgb, tpr_xgb, label=f\"XGBoost (AUC = {roc_auc_xgb:.2f})\", linestyle='--')\n",
    "plt.plot(fpr_keras, tpr_keras, label=f\"Keras (AUC = {roc_auc_keras:.2f})\", linestyle='-')\n",
    "\n",
    "plt.xlabel(\"False Positive Rate\")\n",
    "plt.ylabel(\"True Positive Rate\")\n",
    "plt.title(\"ROC Curve Comparison\")\n",
    "plt.legend()\n",
    "plt.show()\n"
   ]
  },
  {
   "cell_type": "code",
   "execution_count": 169,
   "id": "ac40b46f-d183-4205-8b5c-54b1c1599f04",
   "metadata": {},
   "outputs": [],
   "source": [
    "# Both models did very nicely with the ROC/AUC\n",
    "# XGBoost model is showing higher F1-score and Recall, indicating better handling of class imbalance!"
   ]
  }
 ],
 "metadata": {
  "kernelspec": {
   "display_name": "Python [conda env:base] *",
   "language": "python",
   "name": "conda-base-py"
  },
  "language_info": {
   "codemirror_mode": {
    "name": "ipython",
    "version": 3
   },
   "file_extension": ".py",
   "mimetype": "text/x-python",
   "name": "python",
   "nbconvert_exporter": "python",
   "pygments_lexer": "ipython3",
   "version": "3.12.7"
  }
 },
 "nbformat": 4,
 "nbformat_minor": 5
}
